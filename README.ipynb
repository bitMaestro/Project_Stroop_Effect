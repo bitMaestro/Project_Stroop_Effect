{
 "cells": [
  {
   "cell_type": "markdown",
   "metadata": {},
   "source": [
    "#### Project Overview\n",
    "\n",
    "You will choose any area of the world in https://www.openstreetmap.org and use data munging techniques, such as assessing the quality of the data for validity, accuracy, completeness, consistency and uniformity, to clean the OpenStreetMap data for a part of the world that you care about. Finally, you will choose either MongoDB or SQL as the data schema to complete your project.\n",
    "\n",
    "#### Learning Objective?\n",
    "After completing the project, you will be able to:\n",
    "\n",
    "Assess the quality of the data for validity, accuracy, completeness, consistency and uniformity.\n",
    "Parse and gather data from popular file formats such as .csv, .json, .xml, and .html\n",
    "Process data from multiple files or very large files that can be cleaned programmatically.\n",
    "Learn how to store, query, and aggregate data using MongoDB or SQL.\n",
    "\n",
    "#### Why this Project?\n",
    "\n",
    "What’s so hard about retrieving data from databases or various files formats? You grab some data from this file and that database, clean it up, merge it, and then feed it into your state of the art, deep learning algorithm … Right?\n",
    "\n",
    "But the reality is this -- anyone who has worked with data extensively knows it is an absolute nightmare to get data from different data sources to play well with each other.\n",
    "\n",
    "And this project will teach you all of the skills you need to deal with even the most nightmarish data wrangling scenarios.\n",
    "\n"
   ]
  }
 ],
 "metadata": {
  "kernelspec": {
   "display_name": "Python [conda env:py2]",
   "language": "python",
   "name": "conda-env-py2-py"
  },
  "language_info": {
   "codemirror_mode": {
    "name": "ipython",
    "version": 2
   },
   "file_extension": ".py",
   "mimetype": "text/x-python",
   "name": "python",
   "nbconvert_exporter": "python",
   "pygments_lexer": "ipython2",
   "version": "2.7.14"
  }
 },
 "nbformat": 4,
 "nbformat_minor": 2
}
